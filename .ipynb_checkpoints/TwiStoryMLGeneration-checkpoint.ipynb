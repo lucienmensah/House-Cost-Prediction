{
 "cells": [
  {
   "cell_type": "code",
   "execution_count": 2,
   "metadata": {},
   "outputs": [],
   "source": [
    "from requests import get\n",
    "from bs4 import BeautifulSoup as bs\n",
    "from pandas import DataFrame as df\n",
    "from pandas import read_csv, read_pickle\n",
    "import numpy as np\n",
    "from datetime import date, datetime\n",
    "import re\n",
    "import matplotlib.pyplot as plt\n",
    "from keras.models import Sequential, load_model\n",
    "from keras.layers import Dense, Embedding, LSTM, Dropout\n",
    "from keras.utils import to_categorical\n",
    "from random import randint\n",
    "%matplotlib inline"
   ]
  },
  {
   "cell_type": "code",
   "execution_count": 4,
   "metadata": {},
   "outputs": [
    {
     "data": {
      "text/plain": [
       "'\\nThis project was created to eventually use ML to develop a story based off of \\nthe text already given by the website, learnakan. These are not my stories, \\nbut they are the property of the creator. I am simply interested in analysis, \\nand learning how to generate text.\\nThe machine learning models do NOT work.'"
      ]
     },
     "execution_count": 4,
     "metadata": {},
     "output_type": "execute_result"
    }
   ],
   "source": [
    "'''This project was created to eventually use ML to develop a story based off of \n",
    "the text already given by the website, learnakan. These are not my stories, \n",
    "but they are the property of the creator. I am simply interested in analysis, \n",
    "and learning how to generate text.'''"
   ]
  },
  {
   "cell_type": "code",
   "execution_count": 6,
   "metadata": {},
   "outputs": [
    {
     "name": "stdout",
     "output_type": "stream",
     "text": [
      "Downloaded!\n"
     ]
    }
   ],
   "source": [
    "twi_url = 'https://learnakan.com/twi-short-story-2/'\n",
    "twi_url2 = 'https://learnakan.com/twi-short-story-part-three-3-with-english-translation/'\n",
    "#download the web page w req\n",
    "twi_download = get(twi_url)\n",
    "twi_down2 = get(twi_url2)\n",
    "print('Downloaded!')\n",
    "#bs parting\n",
    "twi_html = bs(twi_download.text, 'html.parser') #problem w lxml\n",
    "twi_html2 = bs(twi_down2.text, 'html.parser') #problem w lxml"
   ]
  },
  {
   "cell_type": "code",
   "execution_count": 7,
   "metadata": {},
   "outputs": [],
   "source": [
    "# Initialize variables\n",
    "textTag = 'p'\n",
    "cols = ['text']\n",
    "# Extract the tags.\n",
    "paragraphs = twi_html.find_all(textTag)\n",
    "para2 = twi_html2.find_all(textTag)\n",
    "#Loop through each one to extract its text.\n",
    "article = [paragraph.get_text() for paragraph in paragraphs]\n",
    "article2 = [paragraph.get_text() for paragraph in para2]\n",
    "# Load data into dataframe\n",
    "df1 = df(article, columns=cols)\n",
    "df2 = df(article2, columns=cols)"
   ]
  },
  {
   "cell_type": "code",
   "execution_count": 8,
   "metadata": {},
   "outputs": [
    {
     "name": "stdout",
     "output_type": "stream",
     "text": [
      "(In this same community lived a handsome young man whom many used to call ‘Obiarabɛwu’. They explain that this young man had once made much money for himself. Despite his wealth, Obiarabɛwu was very humble, and kind. Whether you’re young or old, Obiarabɛwu showed you respect. If you’re in need too and he has, he’s quick to help you.)(Women like rosy lifestyles. I’m sure you’ve heard this saying before. So, which lady wouldn’t want such a handsome wealthy young man? My friend says, it didn’t take too long before different kinds of women began ‘pushing themselves on’ Obiarabɛwu. Amongst them the tall and short ones, the plump and slim ones, you should’ve seen it for yourself, you shouldn’t be told.)(Obiarabɛwu wasn’t someone who lived a reckless lifestyle. To ensure that he doesn’t fall morally, he chose one lady out of the lot and married her. After the marriage, Obiarabɛwu showed true love to his wife; his wife also made Obiarabɛwu see that she loved him dearly.)Because of the love and trust that Obiarabɛwu had in his wife, he documented all his property in her name. The different houses that he built, the different vehicles that he bought, the different companies that he opened, he documented all in his wife’s name. Many of his friends and family members were not too pleased with what Obiarabɛwu was doing but we can only say much about someone’s marital affairs.\n",
      "But you didn’t ask me about what Marlay did to the many clothes when he was about to retire to bed? Hmm…Around 6:30 in the evening, Marlay would’ve finished his daily rounds/roaming and gotten back to where he sleeps. By the time he gets back too, he’ll be like a house; so big. Then, he’ll patiently take off the dresses one after the other and heap them on the floor till none is left on him. After this, he’ll set off in his nakedness to find something to eat, before he comes back to sleep. When he’s out scavenging for food, that’s the time when those whose clothes were stolen by Marlay in the day, and who know no shame, run to pick theirs out of the heap. As for Marlay, whether you’ll come for yours or not, he doesn’t care at all. The only thing he cares about is to wake up the next morning and set off to pick new clothes.While all this was going on, there was something unique that Marlay used to carry about every day, at all times. When he’s going out to roam, he’s carrying it. When he’s eating, it lies right by him. When he’s sleeping, it’s his pillow. And I know for sure that you’ll ask what it was. You’re right to ask. It’s nothing else than a very big sack, full of something, that he’s tied it so tightly! I know many mentally derailed persons carry around different sacks daily but, according to the friend who told me the story, What was unique about Marlay’s is the fact that he had carried the same sack for so many years. And woe betide you if you come close to his sack, you’ll see what will befall you.\n"
     ]
    }
   ],
   "source": [
    "#this puts everything in a paragraph\n",
    "df1.head() \n",
    "df2.head()\n",
    "text = ' '.join(article)\n",
    "para1 = df1['text'].iloc[2]\n",
    "para2 = df1['text'].iloc[4]\n",
    "para3 = df1['text'].iloc[6]\n",
    "para4 = df2['text'].iloc[2]\n",
    "para5 = df2['text'].iloc[4]\n",
    "para6 = df2['text'].iloc[6]\n",
    "para7 = df2['text'].iloc[8]\n",
    "twi1 = para1 + para2 + para3 \n",
    "twi2 = para4 + para5 + para6 + para7\n",
    "print(twi2)\n",
    "print(twi1)"
   ]
  },
  {
   "cell_type": "code",
   "execution_count": 11,
   "metadata": {},
   "outputs": [
    {
     "name": "stdout",
     "output_type": "stream",
     "text": [
      "but you didn ask me about what marlay did to the many clothes when he was about to retire to bed hmm around in the evening marlay would ve finished his daily rounds roaming and gotten back to where he sleeps by the time he gets back too he ll be like house so big then he ll patiently take off the dresses one after the other and heap them on the floor till none is left on him after this he ll set off in his nakedness to find something to eat before he comes back to sleep when he out scavenging for food that the time when those whose clothes were stolen by marlay in the day and who know no shame run to pick theirs out of the heap as for marlay whether you ll come for yours or not he doesn care at all the only thing he cares about is to wake up the next morning and set off to pick new clothes while all this was going on there was something unique that marlay used to carry about every day at all times when he going out to roam he carrying it when he eating it lies right by him when he sleeping it his pillow and know for sure that you ll ask what it was you re right to ask it nothing else than very big sack full of something that he tied it so tightly know many mentally derailed persons carry around different sacks daily but according to the friend who told me the story what was unique about marlay is the fact that he had carried the same sack for so many years and woe betide you if you come close to his sack you ll see what will befall you  in this same community lived handsome young man whom many used to call obiarab wu they explain that this young man had once made much money for himself despite his wealth obiarab wu was very humble and kind whether you re young or old obiarab wu showed you respect if you re in need too and he has he quick to help you women like rosy lifestyles m sure you ve heard this saying before so which lady wouldn want such handsome wealthy young man my friend says it didn take too long before different kinds of women began pushing themselves on obiarab wu amongst them the tall and short ones the plump and slim ones you should ve seen it for yourself you shouldn be told obiarab wu wasn someone who lived reckless lifestyle to ensure that he doesn fall morally he chose one lady out of the lot and married her after the marriage obiarab wu showed true love to his wife his wife also made obiarab wu see that she loved him dearly because of the love and trust that obiarab wu had in his wife he documented all his property in her name the different houses that he built the different vehicles that he bought the different companies that he opened he documented all in his wife name many of his friends and family members were not too pleased with what obiarab wu was doing but we can only say much about someone marital affairs \n"
     ]
    }
   ],
   "source": [
    "def preprocess(sen):\n",
    "    # Remove punctuations and numbers\n",
    "    sentence = re.sub('[^a-zA-Z]', ' ', sen)\n",
    "\n",
    "    # Single character removal\n",
    "    sentence = re.sub(r\"\\s+[a-zA-Z]\\s+\", ' ', sentence)\n",
    "\n",
    "    # Removing multiple spaces\n",
    "    sentence = re.sub(r'\\s+', ' ', sentence)\n",
    "\n",
    "    return sentence.lower()\n",
    "twiwords1 = preprocess(twi1)\n",
    "twiwords2 = preprocess(twi2)\n",
    "\n",
    "#not doing well with appostrosphes, need to seperate setences by .\n",
    "twiparagraph = twiwords1+twiwords2\n",
    "print(twiparagraph)"
   ]
  },
  {
   "cell_type": "code",
   "execution_count": 45,
   "metadata": {},
   "outputs": [
    {
     "name": "stderr",
     "output_type": "stream",
     "text": [
      "[nltk_data] Downloading package stopwords to\n",
      "[nltk_data]     C:\\Users\\winte_000\\AppData\\Roaming\\nltk_data...\n",
      "[nltk_data]   Package stopwords is already up-to-date!\n"
     ]
    },
    {
     "name": "stdout",
     "output_type": "stream",
     "text": [
      "ask marlay many clothes retire bed hmm around evening marlay would finished daily rounds roaming gotten back sleeps time gets back like house big patiently dresses heap floor none left set nakedness find something eat comes back sleep scavenging food time whose clothes stolen marlay day know shame run pick heap marlay whether thing cares wake next morning set pick new clothes going something unique marlay used carry every day times going roam carrying eating lies right sleeping pillow know sure ask right ask nothing else big sack full something tied tightly know many mentally derailed persons carry around different sacks daily according friend told story unique marlay fact carried sack many years woe betide close sack see befall community lived handsome young many used call obiarab wu explain young made much money despite wealth obiarab wu humble kind whether young old obiarab wu showed respect need quick help women like rosy lifestyles sure heard saying lady handsome wealthy young friend says long different kinds women began pushing obiarab wu amongst tall short ones plump slim ones seen told obiarab wu someone lived reckless lifestyle ensure fall morally chose lady lot married marriage obiarab wu showed true love wife wife made obiarab wu see loved dearly love trust obiarab wu wife documented property different houses built different vehicles bought different companies opened documented wife many friends family members pleased obiarab wu say much someone marital affairs\n"
     ]
    }
   ],
   "source": [
    "'''#removing the stopwords\n",
    "from nltk.corpus import stopwords\n",
    "nltk.download('stopwords')\n",
    "from nltk.tokenize import word_tokenize\n",
    "\n",
    "text_tokens = word_tokenize(twiparagraph)\n",
    "\n",
    "tokens_without_sw = [word for word in text_tokens if not word in stopwords.words()]\n",
    "\n",
    "#print(tokens_without_sw)\n",
    "new_para = (\" \").join(tokens_without_sw)\n",
    "print(new_para)\n",
    "#not removing the stopwords because that didn't improve anything\n",
    "'''"
   ]
  },
  {
   "cell_type": "code",
   "execution_count": 60,
   "metadata": {},
   "outputs": [
    {
     "name": "stdout",
     "output_type": "stream",
     "text": [
      "Total Words: 550\n",
      "Unique Words: 250\n"
     ]
    }
   ],
   "source": [
    "from nltk.tokenize import word_tokenize\n",
    "\n",
    "twi_para = (word_tokenize(twiparagraph))\n",
    "n_words = len(twi_para)\n",
    "unique_words = len(set(twi_para))\n",
    "\n",
    "print('Total Words: %d' % n_words)\n",
    "print('Unique Words: %d' % unique_words)"
   ]
  },
  {
   "cell_type": "code",
   "execution_count": 61,
   "metadata": {},
   "outputs": [],
   "source": [
    "from keras.preprocessing.text import Tokenizer\n",
    "tokenizer = Tokenizer(num_words=250)\n",
    "tokenizer.fit_on_texts(twi_para)"
   ]
  },
  {
   "cell_type": "code",
   "execution_count": 62,
   "metadata": {},
   "outputs": [],
   "source": [
    "vocab_size = len(tokenizer.word_index) + 1\n",
    "word_2_index = tokenizer.word_index"
   ]
  },
  {
   "cell_type": "code",
   "execution_count": 63,
   "metadata": {},
   "outputs": [
    {
     "name": "stdout",
     "output_type": "stream",
     "text": [
      "like\n",
      "54\n"
     ]
    }
   ],
   "source": [
    "print(twi_para[51])\n",
    "print(word_2_index[twi_para[51]])"
   ]
  },
  {
   "cell_type": "code",
   "execution_count": 64,
   "metadata": {},
   "outputs": [],
   "source": [
    "input_sequence = []\n",
    "output_words = []\n",
    "input_seq_length = 100\n",
    "\n",
    "for i in range(0, n_words - input_seq_length , 1):\n",
    "    in_seq = twi_para[i:i + input_seq_length]\n",
    "    out_seq = twi_para[i + input_seq_length]\n",
    "    input_sequence.append([word_2_index[word] for word in in_seq])\n",
    "    output_words.append(word_2_index[out_seq])"
   ]
  },
  {
   "cell_type": "code",
   "execution_count": 65,
   "metadata": {},
   "outputs": [
    {
     "name": "stdout",
     "output_type": "stream",
     "text": [
      "[30, 4, 48, 31, 49, 14, 19, 15, 96, 3, 2, 20, 32, 16, 1, 12, 14, 3, 97, 3, 98, 99, 50, 10, 2, 100, 15, 101, 33, 102, 7, 51, 103, 104, 5, 105, 34, 3, 106, 1, 107, 35, 2, 52, 1, 108, 34, 24, 1, 17, 53, 54, 109, 25, 55, 110, 1, 17, 111, 56, 36, 2, 112, 57, 37, 2, 113, 5, 58, 59, 26, 2, 114, 115, 116, 38, 117, 26, 39, 37, 21, 1, 17, 60, 36, 10, 7, 118, 3, 119, 40, 3, 120, 41, 1, 121, 34, 3, 122, 16]\n"
     ]
    }
   ],
   "source": [
    "print(input_sequence[0])"
   ]
  },
  {
   "cell_type": "code",
   "execution_count": 66,
   "metadata": {},
   "outputs": [
    {
     "name": "stdout",
     "output_type": "stream",
     "text": [
      "X shape: (450, 100, 1)\n",
      "y shape: (450, 251)\n"
     ]
    }
   ],
   "source": [
    "X = np.reshape(input_sequence, (len(input_sequence), input_seq_length, 1))\n",
    "X = X / float(vocab_size)\n",
    "\n",
    "y = to_categorical(output_words)\n",
    "print(\"X shape:\", X.shape)\n",
    "print(\"y shape:\", y.shape)"
   ]
  },
  {
   "cell_type": "code",
   "execution_count": 74,
   "metadata": {},
   "outputs": [
    {
     "name": "stdout",
     "output_type": "stream",
     "text": [
      "Model: \"sequential_6\"\n",
      "_________________________________________________________________\n",
      "Layer (type)                 Output Shape              Param #   \n",
      "=================================================================\n",
      "lstm_20 (LSTM)               (None, 100, 800)          2566400   \n",
      "_________________________________________________________________\n",
      "lstm_21 (LSTM)               (None, 100, 800)          5123200   \n",
      "_________________________________________________________________\n",
      "lstm_22 (LSTM)               (None, 800)               5123200   \n",
      "_________________________________________________________________\n",
      "dense_4 (Dense)              (None, 251)               201051    \n",
      "=================================================================\n",
      "Total params: 13,013,851\n",
      "Trainable params: 13,013,851\n",
      "Non-trainable params: 0\n",
      "_________________________________________________________________\n"
     ]
    }
   ],
   "source": [
    "model = Sequential()\n",
    "model.add(LSTM(800, input_shape=(X.shape[1], X.shape[2]), return_sequences=True))\n",
    "model.add(LSTM(800, return_sequences=True))\n",
    "model.add(LSTM(800))\n",
    "model.add(Dense(y.shape[1], activation='softmax'))\n",
    "\n",
    "model.summary()\n",
    "\n",
    "model.compile(loss='categorical_crossentropy', optimizer='adam')"
   ]
  },
  {
   "cell_type": "code",
   "execution_count": 76,
   "metadata": {},
   "outputs": [
    {
     "name": "stdout",
     "output_type": "stream",
     "text": [
      "Epoch 1/20\n",
      "10/10 [==============================] - 49s 5s/step - loss: 5.0430\n",
      "Epoch 2/20\n",
      "10/10 [==============================] - 51s 5s/step - loss: 5.0350\n",
      "Epoch 3/20\n",
      "10/10 [==============================] - 51s 5s/step - loss: 6.4163\n",
      "Epoch 4/20\n",
      "10/10 [==============================] - 50s 5s/step - loss: 5.1470\n",
      "Epoch 5/20\n",
      "10/10 [==============================] - 51s 5s/step - loss: 5.0805\n",
      "Epoch 6/20\n",
      "10/10 [==============================] - 51s 5s/step - loss: 5.0625\n",
      "Epoch 7/20\n",
      "10/10 [==============================] - 51s 5s/step - loss: 5.0414\n",
      "Epoch 8/20\n",
      "10/10 [==============================] - 51s 5s/step - loss: 5.0348\n",
      "Epoch 9/20\n",
      "10/10 [==============================] - 51s 5s/step - loss: 5.0304\n",
      "Epoch 10/20\n",
      "10/10 [==============================] - 51s 5s/step - loss: 5.0319\n",
      "Epoch 11/20\n",
      "10/10 [==============================] - 51s 5s/step - loss: 5.0293\n",
      "Epoch 12/20\n",
      "10/10 [==============================] - 51s 5s/step - loss: 5.0250\n",
      "Epoch 13/20\n",
      "10/10 [==============================] - 51s 5s/step - loss: 5.0231\n",
      "Epoch 14/20\n",
      "10/10 [==============================] - 51s 5s/step - loss: 5.0216\n",
      "Epoch 15/20\n",
      "10/10 [==============================] - 53s 5s/step - loss: 5.0212\n",
      "Epoch 16/20\n",
      "10/10 [==============================] - 51s 5s/step - loss: 5.0204\n",
      "Epoch 17/20\n",
      "10/10 [==============================] - 51s 5s/step - loss: 5.0202\n",
      "Epoch 18/20\n",
      "10/10 [==============================] - 51s 5s/step - loss: 5.0194\n",
      "Epoch 19/20\n",
      "10/10 [==============================] - 51s 5s/step - loss: 5.0204\n",
      "Epoch 20/20\n",
      "10/10 [==============================] - 51s 5s/step - loss: 5.0218\n"
     ]
    },
    {
     "data": {
      "text/plain": [
       "<tensorflow.python.keras.callbacks.History at 0x18083ac3af0>"
      ]
     },
     "execution_count": 76,
     "metadata": {},
     "output_type": "execute_result"
    }
   ],
   "source": [
    "model.fit(X, y, batch_size=45, epochs=20, verbose=1)"
   ]
  },
  {
   "cell_type": "code",
   "execution_count": 77,
   "metadata": {},
   "outputs": [
    {
     "name": "stdout",
     "output_type": "stream",
     "text": [
      "off in his nakedness to find something to eat before he comes back to sleep when he out scavenging for food that the time when those whose clothes were stolen by marlay in the day and who know no shame run to pick theirs out of the heap as for marlay whether you ll come for yours or not he doesn care at all the only thing he cares about is to wake up the next morning and set off to pick new clothes while all this was going on there was something unique that marlay used to carry about\n"
     ]
    }
   ],
   "source": [
    "random_seq_index = np.random.randint(0, len(input_sequence)-1)\n",
    "random_seq = input_sequence[random_seq_index]\n",
    "\n",
    "index_2_word = dict(map(reversed, word_2_index.items()))\n",
    "\n",
    "word_sequence = [index_2_word[value] for value in random_seq]\n",
    "\n",
    "print(' '.join(word_sequence))"
   ]
  },
  {
   "cell_type": "code",
   "execution_count": 78,
   "metadata": {},
   "outputs": [],
   "source": [
    "for i in range(100):\n",
    "    int_sample = np.reshape(random_seq, (1, len(random_seq), 1))\n",
    "    int_sample = int_sample / float(vocab_size)\n",
    "\n",
    "    predicted_word_index = model.predict(int_sample, verbose=0)\n",
    "\n",
    "    predicted_word_id = np.argmax(predicted_word_index)\n",
    "    seq_in = [index_2_word[index] for index in random_seq]\n",
    "\n",
    "    word_sequence.append(index_2_word[ predicted_word_id])\n",
    "\n",
    "    random_seq.append(predicted_word_id)\n",
    "    random_seq = random_seq[1:len(random_seq)]"
   ]
  },
  {
   "cell_type": "code",
   "execution_count": 79,
   "metadata": {},
   "outputs": [
    {
     "name": "stdout",
     "output_type": "stream",
     "text": [
      " off in his nakedness to find something to eat before he comes back to sleep when he out scavenging for food that the time when those whose clothes were stolen by marlay in the day and who know no shame run to pick theirs out of the heap as for marlay whether you ll come for yours or not he doesn care at all the only thing he cares about is to wake up the next morning and set off to pick new clothes while all this was going on there was something unique that marlay used to carry about he he he he he he he he he he he he he he he he he he he he he he he he he he he he he he he he he he he he he he he he he he he he he he he he he he he he he he he he he he he he he he he he he he he he he he he he he he he he he he he he he he he he he he he he he he he he he he he he he he he he\n"
     ]
    }
   ],
   "source": [
    "final_output = \"\"\n",
    "for word in word_sequence:\n",
    "    final_output = final_output + \" \" + word\n",
    "\n",
    "print(final_output)"
   ]
  },
  {
   "cell_type": "code",
   "execution_count": 25,
   "metadata": {},
   "outputs": [
    {
     "name": "stderr",
     "output_type": "stream",
     "text": [
      "C:\\Users\\winte_000\\miniconda3\\lib\\site-packages\\sklearn\\utils\\validation.py:67: FutureWarning: Pass input=but you didn ask me about what marlay did to the many clothes when he was about to retire to bed hmm around in the evening marlay would ve finished his daily rounds roaming and gotten back to where he sleeps by the time he gets back too he ll be like house so big then he ll patiently take off the dresses one after the other and heap them on the floor till none is left on him after this he ll set off in his nakedness to find something to eat before he comes back to sleep when he out scavenging for food that the time when those whose clothes were stolen by marlay in the day and who know no shame run to pick theirs out of the heap as for marlay whether you ll come for yours or not he doesn care at all the only thing he cares about is to wake up the next morning and set off to pick new clothes while all this was going on there was something unique that marlay used to carry about every day at all times when he going out to roam he carrying it when he eating it lies right by him when he sleeping it his pillow and know for sure that you ll ask what it was you re right to ask it nothing else than very big sack full of something that he tied it so tightly know many mentally derailed persons carry around different sacks daily but according to the friend who told me the story what was unique about marlay is the fact that he had carried the same sack for so many years and woe betide you if you come close to his sack you ll see what will befall you  as keyword args. From version 0.25 passing these as positional arguments will result in an error\n",
      "  warnings.warn(\"Pass {} as keyword args. From version 0.25 \"\n",
      "C:\\Users\\winte_000\\miniconda3\\lib\\site-packages\\sklearn\\utils\\validation.py:67: FutureWarning: Pass input= in this same community lived handsome young man whom many used to call obiarab wu they explain that this young man had once made much money for himself despite his wealth obiarab wu was very humble and kind whether you re young or old obiarab wu showed you respect if you re in need too and he has he quick to help you women like rosy lifestyles m sure you ve heard this saying before so which lady wouldn want such handsome wealthy young man my friend says it didn take too long before different kinds of women began pushing themselves on obiarab wu amongst them the tall and short ones the plump and slim ones you should ve seen it for yourself you shouldn be told obiarab wu wasn someone who lived reckless lifestyle to ensure that he doesn fall morally he chose one lady out of the lot and married her after the marriage obiarab wu showed true love to his wife his wife also made obiarab wu see that she loved him dearly because of the love and trust that obiarab wu had in his wife he documented all his property in her name the different houses that he built the different vehicles that he bought the different companies that he opened he documented all in his wife name many of his friends and family members were not too pleased with what obiarab wu was doing but we can only say much about someone marital affairs  as keyword args. From version 0.25 passing these as positional arguments will result in an error\n",
      "  warnings.warn(\"Pass {} as keyword args. From version 0.25 \"\n"
     ]
    },
    {
     "ename": "ValueError",
     "evalue": "Iterable over raw text documents expected, string object received.",
     "output_type": "error",
     "traceback": [
      "\u001b[1;31m---------------------------------------------------------------------------\u001b[0m",
      "\u001b[1;31mValueError\u001b[0m                                Traceback (most recent call last)",
      "\u001b[1;32m<ipython-input-25-7137af290ecd>\u001b[0m in \u001b[0;36m<module>\u001b[1;34m\u001b[0m\n\u001b[0;32m      7\u001b[0m \u001b[1;33m\u001b[0m\u001b[0m\n\u001b[0;32m      8\u001b[0m \u001b[1;31m#count vect is tokenizer\u001b[0m\u001b[1;33m\u001b[0m\u001b[1;33m\u001b[0m\u001b[1;33m\u001b[0m\u001b[0m\n\u001b[1;32m----> 9\u001b[1;33m \u001b[0mcv_final_doc\u001b[0m\u001b[1;33m=\u001b[0m\u001b[0mcv_final\u001b[0m\u001b[1;33m.\u001b[0m\u001b[0mfit_transform\u001b[0m\u001b[1;33m(\u001b[0m\u001b[0mtext\u001b[0m\u001b[1;33m)\u001b[0m\u001b[1;33m\u001b[0m\u001b[1;33m\u001b[0m\u001b[0m\n\u001b[0m\u001b[0;32m     10\u001b[0m \u001b[0mcv_lab_doc\u001b[0m\u001b[1;33m=\u001b[0m\u001b[0mcv_final_labs\u001b[0m\u001b[1;33m.\u001b[0m\u001b[0mfit_transform\u001b[0m\u001b[1;33m(\u001b[0m\u001b[0mlabels\u001b[0m\u001b[1;33m)\u001b[0m\u001b[1;33m\u001b[0m\u001b[1;33m\u001b[0m\u001b[0m\n\u001b[0;32m     11\u001b[0m \u001b[1;33m\u001b[0m\u001b[0m\n",
      "\u001b[1;32m~\\miniconda3\\lib\\site-packages\\sklearn\\feature_extraction\\text.py\u001b[0m in \u001b[0;36mfit_transform\u001b[1;34m(self, raw_documents, y)\u001b[0m\n\u001b[0;32m   1186\u001b[0m         \u001b[1;31m# TfidfVectorizer.\u001b[0m\u001b[1;33m\u001b[0m\u001b[1;33m\u001b[0m\u001b[1;33m\u001b[0m\u001b[0m\n\u001b[0;32m   1187\u001b[0m         \u001b[1;32mif\u001b[0m \u001b[0misinstance\u001b[0m\u001b[1;33m(\u001b[0m\u001b[0mraw_documents\u001b[0m\u001b[1;33m,\u001b[0m \u001b[0mstr\u001b[0m\u001b[1;33m)\u001b[0m\u001b[1;33m:\u001b[0m\u001b[1;33m\u001b[0m\u001b[1;33m\u001b[0m\u001b[0m\n\u001b[1;32m-> 1188\u001b[1;33m             raise ValueError(\n\u001b[0m\u001b[0;32m   1189\u001b[0m                 \u001b[1;34m\"Iterable over raw text documents expected, \"\u001b[0m\u001b[1;33m\u001b[0m\u001b[1;33m\u001b[0m\u001b[0m\n\u001b[0;32m   1190\u001b[0m                 \"string object received.\")\n",
      "\u001b[1;31mValueError\u001b[0m: Iterable over raw text documents expected, string object received."
     ]
    }
   ],
   "source": [
    "#currently doesn't work because i need to change the paragraphs are in one large string when i need it to be a series of lists\n",
    "from sklearn.feature_extraction.text import CountVectorizer\n",
    "text = twiwords1\n",
    "labels = twiwords2\n",
    "\n",
    "cv_final=CountVectorizer(text,max_features=45,ngram_range=(1,1),stop_words='english',min_df=1)\n",
    "cv_final_labs=CountVectorizer(labels,max_features=45,ngram_range=(1,1),stop_words='english',min_df=1)\n",
    "\n",
    "#count vect is tokenizer\n",
    "cv_final_doc=cv_final.fit_transform(text)\n",
    "cv_lab_doc=cv_final_labs.fit_transform(labels)\n",
    "\n",
    "print('The shape is:', cv_final_doc.shape)\n",
    "print(cv_final.vocabulary_) #token values\n",
    "print(\"The other shape is:\",cv_lab_doc.shape)\n",
    "print(cv_final_labs.vocabulary_) #token values"
   ]
  },
  {
   "cell_type": "code",
   "execution_count": null,
   "metadata": {},
   "outputs": [],
   "source": [
    "from sklearn.feature_extraction.text import TfidfVectorizer\n",
    "#term Frequency – Inverse Document”\n",
    "vectorizer = TfidfVectorizer()\n",
    "# tokenize and build vocab\n",
    "vectorizer.fit(text)\n",
    "# summarize\n",
    "vocabb = vectorizer.vocabulary_\n",
    "print(vocabb)\n",
    "print(vectorizer.idf_)\n",
    "# encode document\n",
    "vector = vectorizer.transform([text[0]])\n",
    "# summarize encoded vector\n",
    "#print(vector.shape)\n",
    "vec_ar = vector.toarray()\n",
    "#print(vec_ar)"
   ]
  },
  {
   "cell_type": "code",
   "execution_count": 16,
   "metadata": {},
   "outputs": [
    {
     "data": {
      "image/png": "[encoded data removed]",
      "text/plain": [
       "<Figure size 432x288 with 1 Axes>"
      ]
     },
     "metadata": {
      "needs_background": "light"
     },
     "output_type": "display_data"
    }
   ],
   "source": [
    "#Data Vis- Histogram of hosts having multiple IDs. Probably would be best shown with a bar graph.\n",
    "plt.hist(vectorizer.idf_, bins = 30)\n",
    "plt.title(\"Freq Dist\")\n",
    "plt.xlabel(\"Number of Words with this rating\")\n",
    "plt.ylabel(\"Frequency\")\n",
    "plt.show()"
   ]
  },
  {
   "cell_type": "code",
   "execution_count": 17,
   "metadata": {},
   "outputs": [
    {
     "data": {
      "image/png": "[encoded data removed]",
      "text/plain": [
       "<Figure size 432x288 with 1 Axes>"
      ]
     },
     "metadata": {
      "needs_background": "light"
     },
     "output_type": "display_data"
    }
   ],
   "source": [
    "plt.scatter(vocabb.keys(),vocabb.values(), color = \"purple\")\n",
    "plt.title(\"Words and keys\")\n",
    "plt.xlabel(\"Words\")\n",
    "plt.ylabel(\"Frequency\")\n",
    "plt.show()"
   ]
  },
  {
   "cell_type": "code",
   "execution_count": 18,
   "metadata": {},
   "outputs": [
    {
     "ename": "ValueError",
     "evalue": "Found input variables with inconsistent numbers of samples: [18, 17]",
     "output_type": "error",
     "traceback": [
      "\u001b[1;31m---------------------------------------------------------------------------\u001b[0m",
      "\u001b[1;31mValueError\u001b[0m                                Traceback (most recent call last)",
      "\u001b[1;32m<ipython-input-18-8bb544368864>\u001b[0m in \u001b[0;36m<module>\u001b[1;34m\u001b[0m\n\u001b[0;32m      1\u001b[0m \u001b[1;32mfrom\u001b[0m \u001b[0msklearn\u001b[0m\u001b[1;33m.\u001b[0m\u001b[0mmodel_selection\u001b[0m \u001b[1;32mimport\u001b[0m \u001b[0mtrain_test_split\u001b[0m\u001b[1;33m\u001b[0m\u001b[1;33m\u001b[0m\u001b[0m\n\u001b[0;32m      2\u001b[0m \u001b[0mvec_ar\u001b[0m\u001b[1;33m.\u001b[0m\u001b[0mreshape\u001b[0m\u001b[1;33m(\u001b[0m\u001b[1;33m-\u001b[0m\u001b[1;36m1\u001b[0m\u001b[1;33m,\u001b[0m\u001b[1;36m1\u001b[0m\u001b[1;33m)\u001b[0m\u001b[1;33m\u001b[0m\u001b[1;33m\u001b[0m\u001b[0m\n\u001b[1;32m----> 3\u001b[1;33m \u001b[0mX_train\u001b[0m\u001b[1;33m,\u001b[0m \u001b[0mX_test\u001b[0m\u001b[1;33m,\u001b[0m \u001b[0my_test\u001b[0m\u001b[1;33m,\u001b[0m \u001b[0my_train\u001b[0m \u001b[1;33m=\u001b[0m \u001b[0mtrain_test_split\u001b[0m\u001b[1;33m(\u001b[0m\u001b[0mtext\u001b[0m\u001b[1;33m,\u001b[0m \u001b[0mlabels\u001b[0m\u001b[1;33m,\u001b[0m \u001b[0mtest_size\u001b[0m\u001b[1;33m=\u001b[0m\u001b[1;36m0.2\u001b[0m\u001b[1;33m,\u001b[0m \u001b[0mrandom_state\u001b[0m\u001b[1;33m=\u001b[0m\u001b[1;36m0\u001b[0m\u001b[1;33m)\u001b[0m\u001b[1;33m\u001b[0m\u001b[1;33m\u001b[0m\u001b[0m\n\u001b[0m",
      "\u001b[1;32m~\\miniconda3\\lib\\site-packages\\sklearn\\model_selection\\_split.py\u001b[0m in \u001b[0;36mtrain_test_split\u001b[1;34m(*arrays, **options)\u001b[0m\n\u001b[0;32m   2125\u001b[0m         \u001b[1;32mraise\u001b[0m \u001b[0mTypeError\u001b[0m\u001b[1;33m(\u001b[0m\u001b[1;34m\"Invalid parameters passed: %s\"\u001b[0m \u001b[1;33m%\u001b[0m \u001b[0mstr\u001b[0m\u001b[1;33m(\u001b[0m\u001b[0moptions\u001b[0m\u001b[1;33m)\u001b[0m\u001b[1;33m)\u001b[0m\u001b[1;33m\u001b[0m\u001b[1;33m\u001b[0m\u001b[0m\n\u001b[0;32m   2126\u001b[0m \u001b[1;33m\u001b[0m\u001b[0m\n\u001b[1;32m-> 2127\u001b[1;33m     \u001b[0marrays\u001b[0m \u001b[1;33m=\u001b[0m \u001b[0mindexable\u001b[0m\u001b[1;33m(\u001b[0m\u001b[1;33m*\u001b[0m\u001b[0marrays\u001b[0m\u001b[1;33m)\u001b[0m\u001b[1;33m\u001b[0m\u001b[1;33m\u001b[0m\u001b[0m\n\u001b[0m\u001b[0;32m   2128\u001b[0m \u001b[1;33m\u001b[0m\u001b[0m\n\u001b[0;32m   2129\u001b[0m     \u001b[0mn_samples\u001b[0m \u001b[1;33m=\u001b[0m \u001b[0m_num_samples\u001b[0m\u001b[1;33m(\u001b[0m\u001b[0marrays\u001b[0m\u001b[1;33m[\u001b[0m\u001b[1;36m0\u001b[0m\u001b[1;33m]\u001b[0m\u001b[1;33m)\u001b[0m\u001b[1;33m\u001b[0m\u001b[1;33m\u001b[0m\u001b[0m\n",
      "\u001b[1;32m~\\miniconda3\\lib\\site-packages\\sklearn\\utils\\validation.py\u001b[0m in \u001b[0;36mindexable\u001b[1;34m(*iterables)\u001b[0m\n\u001b[0;32m    290\u001b[0m     \"\"\"\n\u001b[0;32m    291\u001b[0m     \u001b[0mresult\u001b[0m \u001b[1;33m=\u001b[0m \u001b[1;33m[\u001b[0m\u001b[0m_make_indexable\u001b[0m\u001b[1;33m(\u001b[0m\u001b[0mX\u001b[0m\u001b[1;33m)\u001b[0m \u001b[1;32mfor\u001b[0m \u001b[0mX\u001b[0m \u001b[1;32min\u001b[0m \u001b[0miterables\u001b[0m\u001b[1;33m]\u001b[0m\u001b[1;33m\u001b[0m\u001b[1;33m\u001b[0m\u001b[0m\n\u001b[1;32m--> 292\u001b[1;33m     \u001b[0mcheck_consistent_length\u001b[0m\u001b[1;33m(\u001b[0m\u001b[1;33m*\u001b[0m\u001b[0mresult\u001b[0m\u001b[1;33m)\u001b[0m\u001b[1;33m\u001b[0m\u001b[1;33m\u001b[0m\u001b[0m\n\u001b[0m\u001b[0;32m    293\u001b[0m     \u001b[1;32mreturn\u001b[0m \u001b[0mresult\u001b[0m\u001b[1;33m\u001b[0m\u001b[1;33m\u001b[0m\u001b[0m\n\u001b[0;32m    294\u001b[0m \u001b[1;33m\u001b[0m\u001b[0m\n",
      "\u001b[1;32m~\\miniconda3\\lib\\site-packages\\sklearn\\utils\\validation.py\u001b[0m in \u001b[0;36mcheck_consistent_length\u001b[1;34m(*arrays)\u001b[0m\n\u001b[0;32m    253\u001b[0m     \u001b[0muniques\u001b[0m \u001b[1;33m=\u001b[0m \u001b[0mnp\u001b[0m\u001b[1;33m.\u001b[0m\u001b[0munique\u001b[0m\u001b[1;33m(\u001b[0m\u001b[0mlengths\u001b[0m\u001b[1;33m)\u001b[0m\u001b[1;33m\u001b[0m\u001b[1;33m\u001b[0m\u001b[0m\n\u001b[0;32m    254\u001b[0m     \u001b[1;32mif\u001b[0m \u001b[0mlen\u001b[0m\u001b[1;33m(\u001b[0m\u001b[0muniques\u001b[0m\u001b[1;33m)\u001b[0m \u001b[1;33m>\u001b[0m \u001b[1;36m1\u001b[0m\u001b[1;33m:\u001b[0m\u001b[1;33m\u001b[0m\u001b[1;33m\u001b[0m\u001b[0m\n\u001b[1;32m--> 255\u001b[1;33m         raise ValueError(\"Found input variables with inconsistent numbers of\"\n\u001b[0m\u001b[0;32m    256\u001b[0m                          \" samples: %r\" % [int(l) for l in lengths])\n\u001b[0;32m    257\u001b[0m \u001b[1;33m\u001b[0m\u001b[0m\n",
      "\u001b[1;31mValueError\u001b[0m: Found input variables with inconsistent numbers of samples: [18, 17]"
     ]
    }
   ],
   "source": [
    "from sklearn.model_selection import train_test_split\n",
    "vec_ar.reshape(-1,1)\n",
    "X_train, X_test, y_test, y_train = train_test_split(text, labels, test_size=0.2, random_state=0)"
   ]
  },
  {
   "cell_type": "code",
   "execution_count": 11,
   "metadata": {},
   "outputs": [
    {
     "ename": "NameError",
     "evalue": "name 'X_train' is not defined",
     "output_type": "error",
     "traceback": [
      "\u001b[1;31m---------------------------------------------------------------------------\u001b[0m",
      "\u001b[1;31mNameError\u001b[0m                                 Traceback (most recent call last)",
      "\u001b[1;32m<ipython-input-11-401e2f748731>\u001b[0m in \u001b[0;36m<module>\u001b[1;34m()\u001b[0m\n\u001b[0;32m      1\u001b[0m \u001b[1;32mfrom\u001b[0m \u001b[0msklearn\u001b[0m\u001b[1;33m.\u001b[0m\u001b[0mensemble\u001b[0m \u001b[1;32mimport\u001b[0m \u001b[0mRandomForestClassifier\u001b[0m\u001b[1;33m\u001b[0m\u001b[1;33m\u001b[0m\u001b[0m\n\u001b[0;32m      2\u001b[0m \u001b[0mclassifier\u001b[0m \u001b[1;33m=\u001b[0m \u001b[0mRandomForestClassifier\u001b[0m\u001b[1;33m(\u001b[0m\u001b[0mn_estimators\u001b[0m\u001b[1;33m=\u001b[0m\u001b[1;36m1000\u001b[0m\u001b[1;33m,\u001b[0m \u001b[0mrandom_state\u001b[0m\u001b[1;33m=\u001b[0m\u001b[1;36m0\u001b[0m\u001b[1;33m)\u001b[0m\u001b[1;33m\u001b[0m\u001b[1;33m\u001b[0m\u001b[0m\n\u001b[1;32m----> 3\u001b[1;33m \u001b[0mclassifier\u001b[0m\u001b[1;33m.\u001b[0m\u001b[0mfit\u001b[0m\u001b[1;33m(\u001b[0m\u001b[0mX_train\u001b[0m\u001b[1;33m,\u001b[0m \u001b[0my_train\u001b[0m\u001b[1;33m)\u001b[0m\u001b[1;33m\u001b[0m\u001b[1;33m\u001b[0m\u001b[0m\n\u001b[0m\u001b[0;32m      4\u001b[0m \u001b[0my_pred\u001b[0m \u001b[1;33m=\u001b[0m \u001b[0mclassifier\u001b[0m\u001b[1;33m.\u001b[0m\u001b[0mpredict\u001b[0m\u001b[1;33m(\u001b[0m\u001b[0mX_test\u001b[0m\u001b[1;33m)\u001b[0m\u001b[1;33m\u001b[0m\u001b[1;33m\u001b[0m\u001b[0m\n",
      "\u001b[1;31mNameError\u001b[0m: name 'X_train' is not defined"
     ]
    }
   ],
   "source": [
    "from sklearn.ensemble import RandomForestClassifier\n",
    "classifier = RandomForestClassifier(n_estimators=1000, random_state=0)\n",
    "classifier.fit(X_train, y_train)\n",
    "y_pred = classifier.predict(X_test)"
   ]
  },
  {
   "cell_type": "code",
   "execution_count": 114,
   "metadata": {},
   "outputs": [
    {
     "ename": "ValueError",
     "evalue": "Found input variables with inconsistent numbers of samples: [18, 17]",
     "output_type": "error",
     "traceback": [
      "\u001b[1;31m---------------------------------------------------------------------------\u001b[0m",
      "\u001b[1;31mValueError\u001b[0m                                Traceback (most recent call last)",
      "\u001b[1;32m<ipython-input-114-80ca2058b8b4>\u001b[0m in \u001b[0;36m<module>\u001b[1;34m()\u001b[0m\n\u001b[1;32m----> 1\u001b[1;33m \u001b[0mX_train\u001b[0m\u001b[1;33m,\u001b[0m \u001b[0mX_validation\u001b[0m\u001b[1;33m,\u001b[0m \u001b[0mY_train\u001b[0m\u001b[1;33m,\u001b[0m \u001b[0mY_validation\u001b[0m \u001b[1;33m=\u001b[0m \u001b[0mtrain_test_split\u001b[0m\u001b[1;33m(\u001b[0m\u001b[0mtext\u001b[0m\u001b[1;33m,\u001b[0m \u001b[0mlabels\u001b[0m\u001b[1;33m,\u001b[0m \u001b[0mtest_size\u001b[0m\u001b[1;33m=\u001b[0m\u001b[1;36m0.20\u001b[0m\u001b[1;33m,\u001b[0m \u001b[0mrandom_state\u001b[0m\u001b[1;33m=\u001b[0m\u001b[1;36m1\u001b[0m\u001b[1;33m)\u001b[0m\u001b[1;33m\u001b[0m\u001b[1;33m\u001b[0m\u001b[0m\n\u001b[0m\u001b[0;32m      2\u001b[0m \u001b[1;31m# Make predictions on validation dataset\u001b[0m\u001b[1;33m\u001b[0m\u001b[1;33m\u001b[0m\u001b[1;33m\u001b[0m\u001b[0m\n\u001b[0;32m      3\u001b[0m \u001b[0mmodel\u001b[0m \u001b[1;33m=\u001b[0m \u001b[0mSVC\u001b[0m\u001b[1;33m(\u001b[0m\u001b[0mgamma\u001b[0m\u001b[1;33m=\u001b[0m\u001b[1;34m'auto'\u001b[0m\u001b[1;33m)\u001b[0m\u001b[1;33m\u001b[0m\u001b[1;33m\u001b[0m\u001b[0m\n\u001b[0;32m      4\u001b[0m \u001b[0mmodel\u001b[0m\u001b[1;33m.\u001b[0m\u001b[0mfit\u001b[0m\u001b[1;33m(\u001b[0m\u001b[0mX_train\u001b[0m\u001b[1;33m,\u001b[0m \u001b[0mY_train\u001b[0m\u001b[1;33m)\u001b[0m\u001b[1;33m\u001b[0m\u001b[1;33m\u001b[0m\u001b[0m\n\u001b[0;32m      5\u001b[0m \u001b[0mpredictions\u001b[0m \u001b[1;33m=\u001b[0m \u001b[0mmodel\u001b[0m\u001b[1;33m.\u001b[0m\u001b[0mpredict\u001b[0m\u001b[1;33m(\u001b[0m\u001b[0mX_validation\u001b[0m\u001b[1;33m)\u001b[0m\u001b[1;33m\u001b[0m\u001b[1;33m\u001b[0m\u001b[0m\n",
      "\u001b[1;32mC:\\ProgramData\\Miniconda3\\lib\\site-packages\\sklearn\\model_selection\\_split.py\u001b[0m in \u001b[0;36mtrain_test_split\u001b[1;34m(*arrays, **options)\u001b[0m\n\u001b[0;32m   2116\u001b[0m         \u001b[1;32mraise\u001b[0m \u001b[0mTypeError\u001b[0m\u001b[1;33m(\u001b[0m\u001b[1;34m\"Invalid parameters passed: %s\"\u001b[0m \u001b[1;33m%\u001b[0m \u001b[0mstr\u001b[0m\u001b[1;33m(\u001b[0m\u001b[0moptions\u001b[0m\u001b[1;33m)\u001b[0m\u001b[1;33m)\u001b[0m\u001b[1;33m\u001b[0m\u001b[1;33m\u001b[0m\u001b[0m\n\u001b[0;32m   2117\u001b[0m \u001b[1;33m\u001b[0m\u001b[0m\n\u001b[1;32m-> 2118\u001b[1;33m     \u001b[0marrays\u001b[0m \u001b[1;33m=\u001b[0m \u001b[0mindexable\u001b[0m\u001b[1;33m(\u001b[0m\u001b[1;33m*\u001b[0m\u001b[0marrays\u001b[0m\u001b[1;33m)\u001b[0m\u001b[1;33m\u001b[0m\u001b[1;33m\u001b[0m\u001b[0m\n\u001b[0m\u001b[0;32m   2119\u001b[0m \u001b[1;33m\u001b[0m\u001b[0m\n\u001b[0;32m   2120\u001b[0m     \u001b[0mn_samples\u001b[0m \u001b[1;33m=\u001b[0m \u001b[0m_num_samples\u001b[0m\u001b[1;33m(\u001b[0m\u001b[0marrays\u001b[0m\u001b[1;33m[\u001b[0m\u001b[1;36m0\u001b[0m\u001b[1;33m]\u001b[0m\u001b[1;33m)\u001b[0m\u001b[1;33m\u001b[0m\u001b[1;33m\u001b[0m\u001b[0m\n",
      "\u001b[1;32mC:\\ProgramData\\Miniconda3\\lib\\site-packages\\sklearn\\utils\\validation.py\u001b[0m in \u001b[0;36mindexable\u001b[1;34m(*iterables)\u001b[0m\n\u001b[0;32m    246\u001b[0m     \"\"\"\n\u001b[0;32m    247\u001b[0m     \u001b[0mresult\u001b[0m \u001b[1;33m=\u001b[0m \u001b[1;33m[\u001b[0m\u001b[0m_make_indexable\u001b[0m\u001b[1;33m(\u001b[0m\u001b[0mX\u001b[0m\u001b[1;33m)\u001b[0m \u001b[1;32mfor\u001b[0m \u001b[0mX\u001b[0m \u001b[1;32min\u001b[0m \u001b[0miterables\u001b[0m\u001b[1;33m]\u001b[0m\u001b[1;33m\u001b[0m\u001b[1;33m\u001b[0m\u001b[0m\n\u001b[1;32m--> 248\u001b[1;33m     \u001b[0mcheck_consistent_length\u001b[0m\u001b[1;33m(\u001b[0m\u001b[1;33m*\u001b[0m\u001b[0mresult\u001b[0m\u001b[1;33m)\u001b[0m\u001b[1;33m\u001b[0m\u001b[1;33m\u001b[0m\u001b[0m\n\u001b[0m\u001b[0;32m    249\u001b[0m     \u001b[1;32mreturn\u001b[0m \u001b[0mresult\u001b[0m\u001b[1;33m\u001b[0m\u001b[1;33m\u001b[0m\u001b[0m\n\u001b[0;32m    250\u001b[0m \u001b[1;33m\u001b[0m\u001b[0m\n",
      "\u001b[1;32mC:\\ProgramData\\Miniconda3\\lib\\site-packages\\sklearn\\utils\\validation.py\u001b[0m in \u001b[0;36mcheck_consistent_length\u001b[1;34m(*arrays)\u001b[0m\n\u001b[0;32m    210\u001b[0m     \u001b[1;32mif\u001b[0m \u001b[0mlen\u001b[0m\u001b[1;33m(\u001b[0m\u001b[0muniques\u001b[0m\u001b[1;33m)\u001b[0m \u001b[1;33m>\u001b[0m \u001b[1;36m1\u001b[0m\u001b[1;33m:\u001b[0m\u001b[1;33m\u001b[0m\u001b[1;33m\u001b[0m\u001b[0m\n\u001b[0;32m    211\u001b[0m         raise ValueError(\"Found input variables with inconsistent numbers of\"\n\u001b[1;32m--> 212\u001b[1;33m                          \" samples: %r\" % [int(l) for l in lengths])\n\u001b[0m\u001b[0;32m    213\u001b[0m \u001b[1;33m\u001b[0m\u001b[0m\n\u001b[0;32m    214\u001b[0m \u001b[1;33m\u001b[0m\u001b[0m\n",
      "\u001b[1;31mValueError\u001b[0m: Found input variables with inconsistent numbers of samples: [18, 17]"
     ]
    }
   ],
   "source": [
    "X_train, X_validation, Y_train, Y_validation = train_test_split(text, labels, test_size=0.20, random_state=1)\n",
    "# Make predictions on validation dataset\n",
    "model = SVC(gamma='auto')\n",
    "model.fit(X_train, Y_train)\n",
    "predictions = model.predict(X_validation)\n",
    "# Evaluate predictions\n",
    "print(accuracy_score(Y_validation, predictions))\n",
    "print(confusion_matrix(Y_validation, predictions))\n",
    "print(classification_report(Y_validation, predictions))"
   ]
  },
  {
   "cell_type": "code",
   "execution_count": null,
   "metadata": {},
   "outputs": [],
   "source": []
  }
 ],
 "metadata": {
  "kernelspec": {
   "display_name": "Python 3",
   "language": "python",
   "name": "python3"
  },
  "language_info": {
   "codemirror_mode": {
    "name": "ipython",
    "version": 3
   },
   "file_extension": ".py",
   "mimetype": "text/x-python",
   "name": "python",
   "nbconvert_exporter": "python",
   "pygments_lexer": "ipython3",
   "version": "3.8.5"
  }
 },
 "nbformat": 4,
 "nbformat_minor": 4
}
